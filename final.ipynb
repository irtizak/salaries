{
 "cells": [
  {
   "cell_type": "code",
   "execution_count": 1,
   "id": "0419d437-a375-453d-b449-d1e36049cc36",
   "metadata": {},
   "outputs": [],
   "source": [
    "# Import libraries\n",
    "import pandas as pd\n",
    "import numpy as np\n",
    "\n",
    "import seaborn as sns\n",
    "from tabulate import tabulate\n",
    "import matplotlib.pyplot as plt\n",
    "\n",
    "from sklearn.ensemble import RandomForestRegressor, RandomForestClassifier\n",
    "from sklearn.preprocessing import OneHotEncoder\n",
    "from sklearn.model_selection import train_test_split, GridSearchCV\n",
    "from sklearn.pipeline import Pipeline\n",
    "from sklearn.compose import ColumnTransformer\n",
    "from sklearn.metrics import mean_squared_error, plot_roc_curve, confusion_matrix, f1_score, precision_score, recall_score, accuracy_score, roc_auc_score, make_scorer\n",
    "\n",
    "import joblib\n",
    "from scipy.stats import ttest_ind"
   ]
  },
  {
   "cell_type": "code",
   "execution_count": 2,
   "id": "0d7da0aa-9073-4e85-bd27-29129ca661d3",
   "metadata": {},
   "outputs": [],
   "source": [
    "# Load data\n",
    "df = pd.read_csv('data/Salaries.csv')"
   ]
  },
  {
   "cell_type": "code",
   "execution_count": 3,
   "id": "1370d92b-b2de-4ddf-b8fb-403d93ee5f3d",
   "metadata": {},
   "outputs": [
    {
     "data": {
      "text/html": [
       "<div>\n",
       "<style scoped>\n",
       "    .dataframe tbody tr th:only-of-type {\n",
       "        vertical-align: middle;\n",
       "    }\n",
       "\n",
       "    .dataframe tbody tr th {\n",
       "        vertical-align: top;\n",
       "    }\n",
       "\n",
       "    .dataframe thead th {\n",
       "        text-align: right;\n",
       "    }\n",
       "</style>\n",
       "<table border=\"1\" class=\"dataframe\">\n",
       "  <thead>\n",
       "    <tr style=\"text-align: right;\">\n",
       "      <th></th>\n",
       "      <th>rank</th>\n",
       "      <th>discipline</th>\n",
       "      <th>yrs.since.phd</th>\n",
       "      <th>yrs.service</th>\n",
       "      <th>sex</th>\n",
       "      <th>salary</th>\n",
       "    </tr>\n",
       "  </thead>\n",
       "  <tbody>\n",
       "    <tr>\n",
       "      <th>0</th>\n",
       "      <td>Prof</td>\n",
       "      <td>B</td>\n",
       "      <td>19</td>\n",
       "      <td>18</td>\n",
       "      <td>Male</td>\n",
       "      <td>139750</td>\n",
       "    </tr>\n",
       "    <tr>\n",
       "      <th>1</th>\n",
       "      <td>Prof</td>\n",
       "      <td>B</td>\n",
       "      <td>20</td>\n",
       "      <td>16</td>\n",
       "      <td>Male</td>\n",
       "      <td>173200</td>\n",
       "    </tr>\n",
       "    <tr>\n",
       "      <th>2</th>\n",
       "      <td>AsstProf</td>\n",
       "      <td>B</td>\n",
       "      <td>4</td>\n",
       "      <td>3</td>\n",
       "      <td>Male</td>\n",
       "      <td>79750</td>\n",
       "    </tr>\n",
       "    <tr>\n",
       "      <th>3</th>\n",
       "      <td>Prof</td>\n",
       "      <td>B</td>\n",
       "      <td>45</td>\n",
       "      <td>39</td>\n",
       "      <td>Male</td>\n",
       "      <td>115000</td>\n",
       "    </tr>\n",
       "    <tr>\n",
       "      <th>4</th>\n",
       "      <td>Prof</td>\n",
       "      <td>B</td>\n",
       "      <td>40</td>\n",
       "      <td>41</td>\n",
       "      <td>Male</td>\n",
       "      <td>141500</td>\n",
       "    </tr>\n",
       "  </tbody>\n",
       "</table>\n",
       "</div>"
      ],
      "text/plain": [
       "       rank discipline  yrs.since.phd  yrs.service   sex  salary\n",
       "0      Prof          B             19           18  Male  139750\n",
       "1      Prof          B             20           16  Male  173200\n",
       "2  AsstProf          B              4            3  Male   79750\n",
       "3      Prof          B             45           39  Male  115000\n",
       "4      Prof          B             40           41  Male  141500"
      ]
     },
     "execution_count": 3,
     "metadata": {},
     "output_type": "execute_result"
    }
   ],
   "source": [
    "# Print first 5 rows\n",
    "df.head()"
   ]
  },
  {
   "cell_type": "code",
   "execution_count": 4,
   "id": "bbb99716-98e6-43db-89e2-9abaa2537894",
   "metadata": {},
   "outputs": [],
   "source": [
    "# Rename columns\n",
    "df.rename(columns={'yrs.since.phd': 'yrs_since_phd', 'yrs.service': 'yrs_service'}, inplace=True)"
   ]
  },
  {
   "cell_type": "code",
   "execution_count": 5,
   "id": "8100497b-fb39-4197-8745-479ebdff2207",
   "metadata": {},
   "outputs": [
    {
     "name": "stdout",
     "output_type": "stream",
     "text": [
      "<class 'pandas.core.frame.DataFrame'>\n",
      "RangeIndex: 397 entries, 0 to 396\n",
      "Data columns (total 6 columns):\n",
      " #   Column         Non-Null Count  Dtype \n",
      "---  ------         --------------  ----- \n",
      " 0   rank           397 non-null    object\n",
      " 1   discipline     397 non-null    object\n",
      " 2   yrs_since_phd  397 non-null    int64 \n",
      " 3   yrs_service    397 non-null    int64 \n",
      " 4   sex            397 non-null    object\n",
      " 5   salary         397 non-null    int64 \n",
      "dtypes: int64(3), object(3)\n",
      "memory usage: 18.7+ KB\n"
     ]
    }
   ],
   "source": [
    "# Check NAs and datatypes\n",
    "df.info()"
   ]
  },
  {
   "cell_type": "code",
   "execution_count": 6,
   "id": "6cc586a3-e597-4470-acce-500ecf8fa12b",
   "metadata": {},
   "outputs": [],
   "source": [
    "# Create numerical and categorical variable lists\n",
    "num_vars = ['yrs_since_phd', 'yrs_service', 'salary']\n",
    "cat_vars = ['rank', 'discipline', 'sex']"
   ]
  },
  {
   "cell_type": "code",
   "execution_count": 7,
   "id": "342ef303-0e79-46fc-9c4b-10b30e11c543",
   "metadata": {},
   "outputs": [
    {
     "data": {
      "text/html": [
       "<div>\n",
       "<style scoped>\n",
       "    .dataframe tbody tr th:only-of-type {\n",
       "        vertical-align: middle;\n",
       "    }\n",
       "\n",
       "    .dataframe tbody tr th {\n",
       "        vertical-align: top;\n",
       "    }\n",
       "\n",
       "    .dataframe thead th {\n",
       "        text-align: right;\n",
       "    }\n",
       "</style>\n",
       "<table border=\"1\" class=\"dataframe\">\n",
       "  <thead>\n",
       "    <tr style=\"text-align: right;\">\n",
       "      <th></th>\n",
       "      <th>yrs_since_phd</th>\n",
       "      <th>yrs_service</th>\n",
       "      <th>salary</th>\n",
       "    </tr>\n",
       "  </thead>\n",
       "  <tbody>\n",
       "    <tr>\n",
       "      <th>count</th>\n",
       "      <td>397.000000</td>\n",
       "      <td>397.000000</td>\n",
       "      <td>397.000000</td>\n",
       "    </tr>\n",
       "    <tr>\n",
       "      <th>mean</th>\n",
       "      <td>22.314861</td>\n",
       "      <td>17.614610</td>\n",
       "      <td>113706.458438</td>\n",
       "    </tr>\n",
       "    <tr>\n",
       "      <th>std</th>\n",
       "      <td>12.887003</td>\n",
       "      <td>13.006024</td>\n",
       "      <td>30289.038695</td>\n",
       "    </tr>\n",
       "    <tr>\n",
       "      <th>min</th>\n",
       "      <td>1.000000</td>\n",
       "      <td>0.000000</td>\n",
       "      <td>57800.000000</td>\n",
       "    </tr>\n",
       "    <tr>\n",
       "      <th>25%</th>\n",
       "      <td>12.000000</td>\n",
       "      <td>7.000000</td>\n",
       "      <td>91000.000000</td>\n",
       "    </tr>\n",
       "    <tr>\n",
       "      <th>50%</th>\n",
       "      <td>21.000000</td>\n",
       "      <td>16.000000</td>\n",
       "      <td>107300.000000</td>\n",
       "    </tr>\n",
       "    <tr>\n",
       "      <th>75%</th>\n",
       "      <td>32.000000</td>\n",
       "      <td>27.000000</td>\n",
       "      <td>134185.000000</td>\n",
       "    </tr>\n",
       "    <tr>\n",
       "      <th>max</th>\n",
       "      <td>56.000000</td>\n",
       "      <td>60.000000</td>\n",
       "      <td>231545.000000</td>\n",
       "    </tr>\n",
       "  </tbody>\n",
       "</table>\n",
       "</div>"
      ],
      "text/plain": [
       "       yrs_since_phd  yrs_service         salary\n",
       "count     397.000000   397.000000     397.000000\n",
       "mean       22.314861    17.614610  113706.458438\n",
       "std        12.887003    13.006024   30289.038695\n",
       "min         1.000000     0.000000   57800.000000\n",
       "25%        12.000000     7.000000   91000.000000\n",
       "50%        21.000000    16.000000  107300.000000\n",
       "75%        32.000000    27.000000  134185.000000\n",
       "max        56.000000    60.000000  231545.000000"
      ]
     },
     "execution_count": 7,
     "metadata": {},
     "output_type": "execute_result"
    }
   ],
   "source": [
    "# Look at numerical value stats\n",
    "df.describe()"
   ]
  },
  {
   "cell_type": "markdown",
   "id": "09e1c0ea-81e3-4414-93d9-b0a7d80bab3e",
   "metadata": {},
   "source": [
    "# Analysis"
   ]
  },
  {
   "cell_type": "code",
   "execution_count": 9,
   "id": "18d4854a-e03c-45c3-8038-73c04424c8e3",
   "metadata": {},
   "outputs": [
    {
     "name": "stdout",
     "output_type": "stream",
     "text": [
      "15.87\n"
     ]
    }
   ],
   "source": [
    "# What percentage of records are Assistant Professors with less than 5 years of experience?\n",
    "print(round(df[(df['rank'] == 'AsstProf') & (df['yrs_service'] < 5)].shape[0]/df.shape[0] * 100, 2))"
   ]
  },
  {
   "cell_type": "code",
   "execution_count": 10,
   "id": "bb7f408b-6237-41b3-8298-284ecb90314e",
   "metadata": {},
   "outputs": [
    {
     "name": "stdout",
     "output_type": "stream",
     "text": [
      "stat=2.782, p=0.006\n",
      "Statistically significant.\n"
     ]
    }
   ],
   "source": [
    "# Is there a statistically significant difference between female and male salaries?\n",
    "salaries_male = df.loc[df['sex'] == 'Male', 'salary']\n",
    "salaries_female = df.loc[df['sex'] == 'Female', 'salary']\n",
    "\n",
    "stat, p = ttest_ind(salaries_male, salaries_female)\n",
    "\n",
    "print('stat=%.3f, p=%.3f' % (stat, p))\n",
    "if p > 0.05:\n",
    "    print('NOT statistically significant.')\n",
    "else:\n",
    "    print('Statistically significant.')"
   ]
  },
  {
   "cell_type": "code",
   "execution_count": 13,
   "id": "2d47c947-1cb1-40bd-ab1e-dc927645bb6b",
   "metadata": {},
   "outputs": [
    {
     "name": "stdout",
     "output_type": "stream",
     "text": [
      "Male Avg. Salary: 115090\n",
      "Female Avg. Salary: 101002\n"
     ]
    }
   ],
   "source": [
    "# Mean salaries \n",
    "print('Male Avg. Salary: {}'.format(round(salaries_male.mean()), 0))\n",
    "print('Female Avg. Salary: {}'.format(round(salaries_female.mean()), 0))"
   ]
  },
  {
   "cell_type": "code",
   "execution_count": 15,
   "id": "b5a132b7-afb9-4433-8a1e-5778e300518d",
   "metadata": {},
   "outputs": [
    {
     "data": {
      "text/plain": [
       "<AxesSubplot:xlabel='rank', ylabel='salary'>"
      ]
     },
     "execution_count": 15,
     "metadata": {},
     "output_type": "execute_result"
    },
    {
     "data": {
      "image/png": "[encoded data removed]",
      "text/plain": [
       "<Figure size 432x288 with 1 Axes>"
      ]
     },
     "metadata": {
      "needs_background": "light"
     },
     "output_type": "display_data"
    }
   ],
   "source": [
    "# What is the distribution of salary by rank and discipline?\n",
    "sns.boxplot(data=df, x = 'rank', y = 'salary', order=['Prof', 'AssocProf', 'AsstProf'])"
   ]
  },
  {
   "cell_type": "code",
   "execution_count": 16,
   "id": "02b4c335-fdf7-49a6-88d9-25d9ead6c214",
   "metadata": {},
   "outputs": [
    {
     "data": {
      "text/plain": [
       "<AxesSubplot:xlabel='discipline', ylabel='salary'>"
      ]
     },
     "execution_count": 16,
     "metadata": {},
     "output_type": "execute_result"
    },
    {
     "data": {
      "image/png": "[encoded data removed]",
      "text/plain": [
       "<Figure size 432x288 with 1 Axes>"
      ]
     },
     "metadata": {
      "needs_background": "light"
     },
     "output_type": "display_data"
    }
   ],
   "source": [
    "sns.boxplot(data=df, x = 'discipline', y = 'salary', order=['A', 'B'])"
   ]
  },
  {
   "cell_type": "code",
   "execution_count": 290,
   "id": "f86fb5b1-531f-45ff-8476-81f925ebfcd0",
   "metadata": {},
   "outputs": [
    {
     "data": {
      "text/plain": [
       "0      B\n",
       "1      B\n",
       "2      B\n",
       "3      B\n",
       "4      B\n",
       "      ..\n",
       "392    A\n",
       "393    A\n",
       "394    A\n",
       "395    A\n",
       "396    A\n",
       "Name: discipline, Length: 397, dtype: object"
      ]
     },
     "execution_count": 290,
     "metadata": {},
     "output_type": "execute_result"
    }
   ],
   "source": [
    "# How would you recode discipline as a 0/1 binary indicator?\n",
    "df['discipline']"
   ]
  },
  {
   "cell_type": "code",
   "execution_count": 603,
   "id": "b85fc880-5f6d-454f-843e-72e05baf05f3",
   "metadata": {},
   "outputs": [
    {
     "data": {
      "text/plain": [
       "0      0\n",
       "1      0\n",
       "2      0\n",
       "3      0\n",
       "4      0\n",
       "      ..\n",
       "392    1\n",
       "393    1\n",
       "394    1\n",
       "395    1\n",
       "396    1\n",
       "Name: discipline, Length: 397, dtype: int64"
      ]
     },
     "execution_count": 603,
     "metadata": {},
     "output_type": "execute_result"
    }
   ],
   "source": [
    "df['discipline'].apply(lambda x: 1 if x == 'A' else 0)"
   ]
  },
  {
   "cell_type": "code",
   "execution_count": 291,
   "id": "d992ab9a-f3c2-4080-8862-9c16fedfa647",
   "metadata": {},
   "outputs": [
    {
     "data": {
      "text/html": [
       "<div>\n",
       "<style scoped>\n",
       "    .dataframe tbody tr th:only-of-type {\n",
       "        vertical-align: middle;\n",
       "    }\n",
       "\n",
       "    .dataframe tbody tr th {\n",
       "        vertical-align: top;\n",
       "    }\n",
       "\n",
       "    .dataframe thead tr th {\n",
       "        text-align: left;\n",
       "    }\n",
       "</style>\n",
       "<table border=\"1\" class=\"dataframe\">\n",
       "  <thead>\n",
       "    <tr>\n",
       "      <th></th>\n",
       "      <th>A</th>\n",
       "      <th>B</th>\n",
       "    </tr>\n",
       "  </thead>\n",
       "  <tbody>\n",
       "    <tr>\n",
       "      <th>0</th>\n",
       "      <td>0.0</td>\n",
       "      <td>1.0</td>\n",
       "    </tr>\n",
       "    <tr>\n",
       "      <th>1</th>\n",
       "      <td>0.0</td>\n",
       "      <td>1.0</td>\n",
       "    </tr>\n",
       "    <tr>\n",
       "      <th>2</th>\n",
       "      <td>0.0</td>\n",
       "      <td>1.0</td>\n",
       "    </tr>\n",
       "    <tr>\n",
       "      <th>3</th>\n",
       "      <td>0.0</td>\n",
       "      <td>1.0</td>\n",
       "    </tr>\n",
       "    <tr>\n",
       "      <th>4</th>\n",
       "      <td>0.0</td>\n",
       "      <td>1.0</td>\n",
       "    </tr>\n",
       "    <tr>\n",
       "      <th>...</th>\n",
       "      <td>...</td>\n",
       "      <td>...</td>\n",
       "    </tr>\n",
       "    <tr>\n",
       "      <th>392</th>\n",
       "      <td>1.0</td>\n",
       "      <td>0.0</td>\n",
       "    </tr>\n",
       "    <tr>\n",
       "      <th>393</th>\n",
       "      <td>1.0</td>\n",
       "      <td>0.0</td>\n",
       "    </tr>\n",
       "    <tr>\n",
       "      <th>394</th>\n",
       "      <td>1.0</td>\n",
       "      <td>0.0</td>\n",
       "    </tr>\n",
       "    <tr>\n",
       "      <th>395</th>\n",
       "      <td>1.0</td>\n",
       "      <td>0.0</td>\n",
       "    </tr>\n",
       "    <tr>\n",
       "      <th>396</th>\n",
       "      <td>1.0</td>\n",
       "      <td>0.0</td>\n",
       "    </tr>\n",
       "  </tbody>\n",
       "</table>\n",
       "<p>397 rows × 2 columns</p>\n",
       "</div>"
      ],
      "text/plain": [
       "       A    B\n",
       "0    0.0  1.0\n",
       "1    0.0  1.0\n",
       "2    0.0  1.0\n",
       "3    0.0  1.0\n",
       "4    0.0  1.0\n",
       "..   ...  ...\n",
       "392  1.0  0.0\n",
       "393  1.0  0.0\n",
       "394  1.0  0.0\n",
       "395  1.0  0.0\n",
       "396  1.0  0.0\n",
       "\n",
       "[397 rows x 2 columns]"
      ]
     },
     "execution_count": 291,
     "metadata": {},
     "output_type": "execute_result"
    }
   ],
   "source": [
    "enc = OneHotEncoder()\n",
    "enc.fit(df[['discipline']])\n",
    "pd.DataFrame(data=enc.transform(df[['discipline']]).toarray(), columns=enc.categories_)"
   ]
  },
  {
   "cell_type": "markdown",
   "id": "5db62d4e-78c6-4b1d-88db-c0effba75bd4",
   "metadata": {},
   "source": [
    "# Model Building"
   ]
  },
  {
   "cell_type": "code",
   "execution_count": 36,
   "id": "bdeb4db3-cd83-4939-a437-578bc062daee",
   "metadata": {},
   "outputs": [],
   "source": [
    "class ModelContainer:\n",
    "    '''This class captures the entire ML pipeline for both regression and classification models.'''\n",
    "    \n",
    "    def __init__(self, df, model_type='regression'):\n",
    "        # Define variables\n",
    "        self.df = df.copy()\n",
    "        self.model_type = model_type\n",
    "        self.num_vars = ['yrs_since_phd', 'yrs_service', 'salary']\n",
    "        self.cat_vars = ['rank', 'discipline', 'sex']\n",
    "        self.target = 'salary'\n",
    "        self.features = []\n",
    "        self.parameters = {'model__max_depth': [2, 4, 6, 8],\n",
    "                           'model__min_samples_split': [5, 10, 15, 20, 30],\n",
    "                           'model__random_state': [42]\n",
    "                           }\n",
    "    \n",
    "        # Create features list\n",
    "        self.features = self.num_vars + self.cat_vars\n",
    "        self.features.remove(self.target)\n",
    "        \n",
    "        # Create target variable\n",
    "        if self.model_type == 'classification':\n",
    "            self.df[self.target] = self.df[self.target].apply(lambda x: 1 if x >= np.median(self.df[self.target]) else 0)\n",
    "        \n",
    "        # Print features and target list\n",
    "        print('Features: {}'.format(self.features))\n",
    "        print('Target: {}'.format(self.target))\n",
    "    \n",
    "    def split_data(self):\n",
    "        # Split data\n",
    "        self.X_train, self.X_test, self.y_train, self.y_test = train_test_split(self.df[self.features], self.df[self.target], test_size = 0.2, random_state=42)\n",
    "\n",
    "        # Print dataframe shapes for train and test datasets\n",
    "        print('Dataset Shapes ->')\n",
    "        print('X_train: {}'.format(self.X_train.shape))\n",
    "        print('y_train: {}'.format(self.X_test.shape))\n",
    "        print('X_test: {}'.format(self.y_train.shape))\n",
    "        print('y_test: {}'.format(self.y_test.shape))\n",
    "    \n",
    "    def create_ohe(self):\n",
    "        # OneHotEncoder for categorical variables\n",
    "        self.preprocessor = ColumnTransformer([\n",
    "            ('ohe', OneHotEncoder(), self.cat_vars)\n",
    "        ],\n",
    "        remainder='passthrough')\n",
    "        \n",
    "        # Display original data\n",
    "        print('Training Dataset - Unprocessed')\n",
    "        print(tabulate(self.X_train.head(), headers='keys', tablefmt='psql'))\n",
    "        \n",
    "        # Display transformed data\n",
    "        preprocessed_data = pd.DataFrame(data=self.preprocessor.fit_transform(self.X_train), columns=self.preprocessor.get_feature_names())\n",
    "        print('Training Dataset - Processed')\n",
    "        print(tabulate(preprocessed_data.head(), headers='keys', tablefmt='psql'))\n",
    "\n",
    "    def create_ml_pipeline(self):\n",
    "        # Define classification or regression model\n",
    "        if self.model_type == 'regression':\n",
    "            model = RandomForestRegressor()\n",
    "        else:\n",
    "            model = RandomForestClassifier()\n",
    "        \n",
    "        # Create ML pipeline\n",
    "        self.pipeline = Pipeline([\n",
    "            ('preprocessor', self.preprocessor),\n",
    "            ('model', model)\n",
    "        ])\n",
    "    \n",
    "    def train_model(self):\n",
    "        # Run grid search on ML pipeline\n",
    "        if self.model_type == 'regression':\n",
    "            self.model = GridSearchCV(self.pipeline, param_grid=self.parameters, cv=3)\n",
    "            self.model.fit(self.X_train, self.y_train)\n",
    "        else:\n",
    "            scorer = make_scorer(f1_score)\n",
    "            self.model = GridSearchCV(self.pipeline, param_grid=self.parameters, scoring=scorer, cv=3)\n",
    "            self.model.fit(self.X_train, self.y_train)\n",
    "        \n",
    "        print('Model training complete!')\n",
    "            \n",
    "        \n",
    "    def plot_feature_importance(self):\n",
    "        # Show feature importances\n",
    "        feature_importance = pd.Series(data = self.model.best_estimator_['model'].feature_importances_, index=self.preprocessor.get_feature_names()).sort_values()\n",
    "        feature_importance.plot(kind='barh')\n",
    "        plt.title('Feature Importance')\n",
    "        plt.show()\n",
    "    \n",
    "    def plot_model_performance(self):\n",
    "        '''Plot model performance based on model type i.e. Classification or Regression'''\n",
    "        \n",
    "        # For regression model\n",
    "        if self.model_type == 'regression':\n",
    "            preds = self.model.predict(self.X_test)\n",
    "            plt.scatter(preds, self.y_test)\n",
    "            plt.xlabel('Predicted Salary')\n",
    "            plt.ylabel('Actual Salary')\n",
    "            \n",
    "            model_corr = round(np.corrcoef(preds, self.y_test)[0][1], 2)\n",
    "            model_rmse = round(np.sqrt(mean_squared_error(self.y_test, preds)),2)\n",
    "            plt.title('Correlation: {}\\nRoot Mean Squared Error: {}'.format(model_corr, model_rmse))\n",
    "            plt.show()\n",
    "        \n",
    "        # For classification model\n",
    "        else:\n",
    "            preds = self.model.predict(self.X_test)\n",
    "#             print(confusion_matrix(self.y_test, preds))\n",
    "#             tn, fp, fn, tp = confusion_matrix(self.y_test, preds).ravel()\n",
    "#             print(tp, tn, fp, fn)\n",
    "            print('Accuracy: {}\\nPrecision: {}\\nRecall: {}\\nAUC Score: {}'.format(round(accuracy_score(self.y_test, preds),2), \n",
    "                                                                                  round(precision_score(self.y_test, preds),2), \n",
    "                                                                                  round(recall_score(self.y_test, preds),2), \n",
    "                                                                                  round(roc_auc_score(self.y_test, preds)))\n",
    "            plot_roc_curve(self.model, self.X_test, self.y_test)  \n",
    "            plt.show() \n",
    "    \n",
    "    def save_model(self):\n",
    "        '''Save model to folder'''\n",
    "        if self.model_type == 'regression':\n",
    "            model_path = 'model/rgr.pkl'\n",
    "        else:\n",
    "            model_path = 'model/clf.pkl'\n",
    "        \n",
    "        joblib.dump(self.model, model_path)\n",
    "        print('Model saved!')\n"
   ]
  },
  {
   "cell_type": "markdown",
   "id": "a4858585-d9f6-4f56-9314-8063e6781a07",
   "metadata": {},
   "source": [
    "## Regression Model"
   ]
  },
  {
   "cell_type": "code",
   "execution_count": 38,
   "id": "71a3dc91-5de3-40ae-8634-54a735e01c3c",
   "metadata": {},
   "outputs": [
    {
     "name": "stdout",
     "output_type": "stream",
     "text": [
      "Features: ['yrs_since_phd', 'yrs_service', 'rank', 'discipline', 'sex']\n",
      "Target: salary\n",
      "Dataset Shapes ->\n",
      "X_train: (317, 5)\n",
      "y_train: (80, 5)\n",
      "X_test: (317,)\n",
      "y_test: (80,)\n",
      "Training Dataset - Unprocessed\n",
      "+-----+-----------------+---------------+-----------+--------------+--------+\n",
      "|     |   yrs_since_phd |   yrs_service | rank      | discipline   | sex    |\n",
      "|-----+-----------------+---------------+-----------+--------------+--------|\n",
      "| 262 |              31 |            26 | Prof      | A            | Male   |\n",
      "| 113 |              37 |            37 | Prof      | A            | Male   |\n",
      "| 176 |              10 |             7 | AssocProf | B            | Male   |\n",
      "|  63 |              11 |            11 | AssocProf | B            | Female |\n",
      "| 245 |              17 |            11 | Prof      | A            | Female |\n",
      "+-----+-----------------+---------------+-----------+--------------+--------+\n",
      "Training Dataset - Processed\n",
      "+----+---------------------+--------------------+----------------+-------------+-------------+------------------+----------------+-----------------+---------------+\n",
      "|    |   ohe__x0_AssocProf |   ohe__x0_AsstProf |   ohe__x0_Prof |   ohe__x1_A |   ohe__x1_B |   ohe__x2_Female |   ohe__x2_Male |   yrs_since_phd |   yrs_service |\n",
      "|----+---------------------+--------------------+----------------+-------------+-------------+------------------+----------------+-----------------+---------------|\n",
      "|  0 |                   0 |                  0 |              1 |           1 |           0 |                0 |              1 |              31 |            26 |\n",
      "|  1 |                   0 |                  0 |              1 |           1 |           0 |                0 |              1 |              37 |            37 |\n",
      "|  2 |                   1 |                  0 |              0 |           0 |           1 |                0 |              1 |              10 |             7 |\n",
      "|  3 |                   1 |                  0 |              0 |           0 |           1 |                1 |              0 |              11 |            11 |\n",
      "|  4 |                   0 |                  0 |              1 |           1 |           0 |                1 |              0 |              17 |            11 |\n",
      "+----+---------------------+--------------------+----------------+-------------+-------------+------------------+----------------+-----------------+---------------+\n",
      "ML Pipeline: Pipeline(steps=[('preprocessor',\n",
      "                 ColumnTransformer(remainder='passthrough',\n",
      "                                   transformers=[('ohe', OneHotEncoder(),\n",
      "                                                  ['rank', 'discipline',\n",
      "                                                   'sex'])])),\n",
      "                ('model', RandomForestRegressor())])\n",
      "Model training complete!\n",
      "Best Parameters: {'model__max_depth': 4, 'model__min_samples_split': 15, 'model__random_state': 42}\n"
     ]
    },
    {
     "data": {
      "image/png": "[encoded data removed]",
      "text/plain": [
       "<Figure size 432x288 with 1 Axes>"
      ]
     },
     "metadata": {
      "needs_background": "light"
     },
     "output_type": "display_data"
    },
    {
     "name": "stdout",
     "output_type": "stream",
     "text": [
      "Model saved!\n"
     ]
    },
    {
     "data": {
      "image/png": "[encoded data removed]",
      "text/plain": [
       "<Figure size 432x288 with 1 Axes>"
      ]
     },
     "metadata": {
      "needs_background": "light"
     },
     "output_type": "display_data"
    }
   ],
   "source": [
    "# Define regression model\n",
    "rgr = ModelContainer(df, model_type = 'regression')\n",
    "\n",
    "# Split data into training and test sets\n",
    "rgr.split_data()\n",
    "\n",
    "# Create preprocess for one-hot encoding\n",
    "rgr.create_ohe()\n",
    "\n",
    "# Create ML pipeline\n",
    "rgr.create_ml_pipeline()\n",
    "\n",
    "# Show ML pipeline structure\n",
    "print('ML Pipeline: {}'.format(rgr.pipeline))\n",
    "\n",
    "# Train model\n",
    "rgr.train_model()\n",
    "\n",
    "# Print best hyperparameters\n",
    "print('Best Parameters: {}'.format(rgr.model.best_params_))\n",
    "\n",
    "# Plot feature importance\n",
    "rgr.plot_feature_importance()\n",
    "\n",
    "# Plot model performance\n",
    "rgr.plot_model_performance()\n",
    "\n",
    "# Save model\n",
    "rgr.save_model()"
   ]
  },
  {
   "cell_type": "markdown",
   "id": "2780d215-3bf9-4ee8-8d9d-a74e11fe6bfd",
   "metadata": {},
   "source": [
    "# Classification Model"
   ]
  },
  {
   "cell_type": "code",
   "execution_count": 42,
   "id": "d69cdbbc-efa9-41d2-ada2-3379940dee25",
   "metadata": {},
   "outputs": [
    {
     "name": "stdout",
     "output_type": "stream",
     "text": [
      "Features: ['yrs_since_phd', 'yrs_service', 'rank', 'discipline', 'sex']\n",
      "Target: salary\n",
      "Dataset Shapes ->\n",
      "X_train: (317, 5)\n",
      "y_train: (80, 5)\n",
      "X_test: (317,)\n",
      "y_test: (80,)\n",
      "Training Dataset - Unprocessed\n",
      "+-----+-----------------+---------------+-----------+--------------+--------+\n",
      "|     |   yrs_since_phd |   yrs_service | rank      | discipline   | sex    |\n",
      "|-----+-----------------+---------------+-----------+--------------+--------|\n",
      "| 262 |              31 |            26 | Prof      | A            | Male   |\n",
      "| 113 |              37 |            37 | Prof      | A            | Male   |\n",
      "| 176 |              10 |             7 | AssocProf | B            | Male   |\n",
      "|  63 |              11 |            11 | AssocProf | B            | Female |\n",
      "| 245 |              17 |            11 | Prof      | A            | Female |\n",
      "+-----+-----------------+---------------+-----------+--------------+--------+\n",
      "Training Dataset - Processed\n",
      "+----+---------------------+--------------------+----------------+-------------+-------------+------------------+----------------+-----------------+---------------+\n",
      "|    |   ohe__x0_AssocProf |   ohe__x0_AsstProf |   ohe__x0_Prof |   ohe__x1_A |   ohe__x1_B |   ohe__x2_Female |   ohe__x2_Male |   yrs_since_phd |   yrs_service |\n",
      "|----+---------------------+--------------------+----------------+-------------+-------------+------------------+----------------+-----------------+---------------|\n",
      "|  0 |                   0 |                  0 |              1 |           1 |           0 |                0 |              1 |              31 |            26 |\n",
      "|  1 |                   0 |                  0 |              1 |           1 |           0 |                0 |              1 |              37 |            37 |\n",
      "|  2 |                   1 |                  0 |              0 |           0 |           1 |                0 |              1 |              10 |             7 |\n",
      "|  3 |                   1 |                  0 |              0 |           0 |           1 |                1 |              0 |              11 |            11 |\n",
      "|  4 |                   0 |                  0 |              1 |           1 |           0 |                1 |              0 |              17 |            11 |\n",
      "+----+---------------------+--------------------+----------------+-------------+-------------+------------------+----------------+-----------------+---------------+\n",
      "ML Pipeline: Pipeline(steps=[('preprocessor',\n",
      "                 ColumnTransformer(remainder='passthrough',\n",
      "                                   transformers=[('ohe', OneHotEncoder(),\n",
      "                                                  ['rank', 'discipline',\n",
      "                                                   'sex'])])),\n",
      "                ('model', RandomForestClassifier())])\n",
      "Model training complete!\n",
      "Best Parameters: {'model__max_depth': 4, 'model__min_samples_split': 15, 'model__random_state': 42}\n"
     ]
    },
    {
     "data": {
      "image/png": "[encoded data removed]",
      "text/plain": [
       "<Figure size 432x288 with 1 Axes>"
      ]
     },
     "metadata": {
      "needs_background": "light"
     },
     "output_type": "display_data"
    },
    {
     "name": "stdout",
     "output_type": "stream",
     "text": [
      "[1 1 0 0 1 0 1 0 0 1 1 1 1 1 1 0 1 0 0 0 1 1 1 1 0 1 0 0 1 1 1 1 1 1 1 1 1\n",
      " 1 1 0 1 1 0 1 1 1 1 1 1 1 1 0 1 0 1 0 1 1 1 0 1 0 1 0 1 1 0 1 0 0 0 1 1 1\n",
      " 0 1 1 0 1 1]\n",
      "[[25 16]\n",
      " [ 1 38]]\n",
      "38 25 16 1\n",
      "Accuracy: 0.7875\n",
      "Precision: 0.7037037037037037\n",
      "Recall: 0.9743589743589743\n",
      "AUC Score: 0.7920575359599751\n"
     ]
    },
    {
     "data": {
      "image/png": "[encoded data removed]",
      "text/plain": [
       "<Figure size 432x288 with 1 Axes>"
      ]
     },
     "metadata": {
      "needs_background": "light"
     },
     "output_type": "display_data"
    },
    {
     "name": "stdout",
     "output_type": "stream",
     "text": [
      "Model saved!\n"
     ]
    }
   ],
   "source": [
    "# Define regression model\n",
    "clf = ModelContainer(df, model_type = 'classification')\n",
    "\n",
    "# Split data into training and test sets\n",
    "clf.split_data()\n",
    "\n",
    "# Create preprocess for one-hot encoding\n",
    "clf.create_ohe()\n",
    "\n",
    "# Create ML pipeline\n",
    "clf.create_ml_pipeline()\n",
    "\n",
    "# Show ML pipeline structure\n",
    "print('ML Pipeline: {}'.format(clf.pipeline))\n",
    "\n",
    "# Train model\n",
    "clf.train_model()\n",
    "\n",
    "# Print best hyperparameters\n",
    "print('Best Parameters: {}'.format(rgr.model.best_params_))\n",
    "\n",
    "# Plot feature importance\n",
    "clf.plot_feature_importance()\n",
    "\n",
    "# Plot model performance\n",
    "clf.plot_model_performance()\n",
    "\n",
    "# Save model\n",
    "clf.save_model()"
   ]
  },
  {
   "cell_type": "code",
   "execution_count": null,
   "id": "222f1e5f-00cc-45bd-b255-027f165e60d6",
   "metadata": {},
   "outputs": [],
   "source": []
  }
 ],
 "metadata": {
  "kernelspec": {
   "display_name": "Python 3 (ipykernel)",
   "language": "python",
   "name": "python3"
  },
  "language_info": {
   "codemirror_mode": {
    "name": "ipython",
    "version": 3
   },
   "file_extension": ".py",
   "mimetype": "text/x-python",
   "name": "python",
   "nbconvert_exporter": "python",
   "pygments_lexer": "ipython3",
   "version": "3.9.5"
  }
 },
 "nbformat": 4,
 "nbformat_minor": 5
}
